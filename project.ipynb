{
 "cells": [
  {
   "cell_type": "code",
   "execution_count": 2,
   "id": "fdc245d1-ebcc-4146-aa8e-9fb0ccad92f9",
   "metadata": {},
   "outputs": [
    {
     "name": "stdout",
     "output_type": "stream",
     "text": [
      "    Unnamed: 0                                     product_name       price  \\\n",
      "0            0                       SWEATSHIRT WITH ZIP COLLAR  ₹ 2,990.00   \n",
      "1            7                         REFLECTIVE EFFECT JACKET  ₹ 7,590.00   \n",
      "2            8                                    COTTON HOODIE  ₹ 3,990.00   \n",
      "3           12                               PREMIUM SWEATSHIRT  ₹ 2,590.00   \n",
      "4           20                   SWEATSHIRT WITH CONTRAST TRIMS  ₹ 3,290.00   \n",
      "5           21                                RIBBED SWEATSHIRT  ₹ 2,990.00   \n",
      "6           24                                  POLO SWEATSHIRT  ₹ 3,290.00   \n",
      "7           29                                  POLO SWEATSHIRT  ₹ 3,290.00   \n",
      "8           30                        CONTRAST PRINT SWEATSHIRT  ₹ 3,290.00   \n",
      "9           31                   PRINTED SWEATSHIRT WITH SLOGAN  ₹ 3,290.00   \n",
      "10          33  THE NOTORIOUS B.I.G. © BROOKLYN MINT SWEATSHIRT  ₹ 3,990.00   \n",
      "11          35                      CONTRAST PRINTED SWEATSHIRT  ₹ 3,290.00   \n",
      "12          36                        CONTRAST PRINT SWEATSHIRT  ₹ 3,290.00   \n",
      "13          38                        CONTRAST PRINT SWEATSHIRT  ₹ 2,990.00   \n",
      "14          39                           PAPER PATCH SWEATSHIRT  ₹ 3,290.00   \n",
      "15          40                  SWEATSHIRT WITH PRINTED SLOGANS  ₹ 2,990.00   \n",
      "16          41           SWEATSHIRT WITH EMBROIDERY AND SLOGANS  ₹ 2,990.00   \n",
      "17          43                   PRINTED SWEATSHIRT WITH SLOGAN  ₹ 2,990.00   \n",
      "18          44                  SWEATSHIRT WITH PRINTED SLOGANS  ₹ 2,990.00   \n",
      "19          45                 MICKEY MOUSE © DISNEY SWEATSHIRT  ₹ 3,290.00   \n",
      "20          46                   SWEATSHIRT WITH CROCHET POCKET  ₹ 2,990.00   \n",
      "21          47                          HATTHANAN™ PRINT HOODIE  ₹ 3,990.00   \n",
      "22          48                    TECHNICAL TRAINING SWEATSHIRT  ₹ 3,990.00   \n",
      "23          55                                  OVERSIZE HOODIE  ₹ 3,290.00   \n",
      "24          56            SWEATSHIRT WITH CONTRAST TOPSTITCHING  ₹ 2,990.00   \n",
      "25          58                             WASHED EFFECT HOODIE  ₹ 3,290.00   \n",
      "26          59                                           HOODIE  ₹ 3,290.00   \n",
      "27          67                         CROPPED DENIM SWEATSHIRT  ₹ 3,290.00   \n",
      "28          68                DENIM T-SHIRT WITH ABSTRACT PRINT  ₹ 2,990.00   \n",
      "29          69                      VINTAGE FADED DENIM T-SHIRT  ₹ 2,590.00   \n",
      "30          70                         TIE-DYE PRINT SWEATSHIRT  ₹ 3,290.00   \n",
      "31          71                             TIE-DYE DENIM HOODIE  ₹ 3,290.00   \n",
      "\n",
      "                                              details  \n",
      "0   Sweatshirt featuring a high neck with front zi...  \n",
      "1   Jacket made of a very lightweight and reflecti...  \n",
      "2   Hoodie made of compact cotton fabric. Adjustab...  \n",
      "3   Loose-fitting sweatshirt with a wide ribbed ne...  \n",
      "4   Loose-fitting sweatshirt with a round neck and...  \n",
      "5          Short sleeve sweatshirt with a round neck.  \n",
      "6   Collared polo shirt with a buttoned front hidd...  \n",
      "7   Collared polo made of compact cotton fabric. F...  \n",
      "8   Sweatshirt with a round neck and long sleeves....  \n",
      "9   Oversize sweatshirt with a round neck and long...  \n",
      "10  Long sleeve sweatshirt with a round neckline. ...  \n",
      "11  Sweatshirt with a round neckline and long slee...  \n",
      "12  Sweatshirt with a round neckline and long slee...  \n",
      "13  Boxy fit sweatshirt with a round neck and shor...  \n",
      "14  Loose-fitting sweatshirt with a round neck and...  \n",
      "15  Loose-fitting sweatshirt with a round neck and...  \n",
      "16  Round neck sweatshirt with short sleeves. Cont...  \n",
      "17  Sweatshirt with a round neck and short sleeves...  \n",
      "18  Sweatshirt with a round neck and short sleeves...  \n",
      "19  Loose-fitting short sleeve sweatshirt with a r...  \n",
      "20  Loose-fitting sweatshirt with a round neck and...  \n",
      "21  Adjustable hoodie with long sleeves. Contrast ...  \n",
      "22  Sweatshirt made of an elastic and lightweight ...  \n",
      "23  Oversize adjustable hoodie. Short sleeves. Fro...  \n",
      "24  Loose-fitting sweatshirt with a round neck and...  \n",
      "25  Cropped hoodie with long sleeves and ribbed cu...  \n",
      "26  Hoodie made of cotton with a napped interior. ...  \n",
      "27  Oversize fit cropped faded sweatshirt featurin...  \n",
      "28  Lightweight denim T-shirt with a round necklin...  \n",
      "29  T-shirt made of lightweight denim. Featuring a...  \n",
      "30  Round neck sweatshirt with short sleeves and i...  \n",
      "31  Denim sweatshirt. Round neck and short sleeves...  \n"
     ]
    }
   ],
   "source": [
    "import numpy as np\n",
    "import pandas as pd\n",
    "df=pd.read_csv(r\"C:\\Users\\91628\\Desktop\\HOODIES_SWEATSHIRT.csv\")\n",
    "print(df)"
   ]
  },
  {
   "cell_type": "code",
   "execution_count": 3,
   "id": "30d8d0d6-5753-4655-a4bd-028fc755e7c3",
   "metadata": {},
   "outputs": [
    {
     "name": "stdout",
     "output_type": "stream",
     "text": [
      "First few rows of the dataset:\n",
      "   Unnamed: 0                    product_name       price  \\\n",
      "0           0      SWEATSHIRT WITH ZIP COLLAR  ₹ 2,990.00   \n",
      "1           7        REFLECTIVE EFFECT JACKET  ₹ 7,590.00   \n",
      "2           8                   COTTON HOODIE  ₹ 3,990.00   \n",
      "3          12              PREMIUM SWEATSHIRT  ₹ 2,590.00   \n",
      "4          20  SWEATSHIRT WITH CONTRAST TRIMS  ₹ 3,290.00   \n",
      "\n",
      "                                             details  \n",
      "0  Sweatshirt featuring a high neck with front zi...  \n",
      "1  Jacket made of a very lightweight and reflecti...  \n",
      "2  Hoodie made of compact cotton fabric. Adjustab...  \n",
      "3  Loose-fitting sweatshirt with a wide ribbed ne...  \n",
      "4  Loose-fitting sweatshirt with a round neck and...  \n",
      "\n",
      "Dataset information:\n",
      "<class 'pandas.core.frame.DataFrame'>\n",
      "RangeIndex: 32 entries, 0 to 31\n",
      "Data columns (total 4 columns):\n",
      " #   Column        Non-Null Count  Dtype \n",
      "---  ------        --------------  ----- \n",
      " 0   Unnamed: 0    32 non-null     int64 \n",
      " 1   product_name  32 non-null     object\n",
      " 2   price         32 non-null     object\n",
      " 3   details       32 non-null     object\n",
      "dtypes: int64(1), object(3)\n",
      "memory usage: 1.1+ KB\n",
      "None\n"
     ]
    }
   ],
   "source": [
    "print(\"First few rows of the dataset:\")\n",
    "print(df.head())\n",
    "\n",
    "print(\"\\nDataset information:\")\n",
    "print(df.info())"
   ]
  },
  {
   "cell_type": "code",
   "execution_count": 4,
   "id": "63546ae9-5422-4788-8662-6d1ecc412b1c",
   "metadata": {},
   "outputs": [
    {
     "name": "stdout",
     "output_type": "stream",
     "text": [
      "\n",
      "Cleaned data sample:\n",
      "                     product_name   price  \\\n",
      "0      SWEATSHIRT WITH ZIP COLLAR  2990.0   \n",
      "1        REFLECTIVE EFFECT JACKET  7590.0   \n",
      "2                   COTTON HOODIE  3990.0   \n",
      "3              PREMIUM SWEATSHIRT  2590.0   \n",
      "4  SWEATSHIRT WITH CONTRAST TRIMS  3290.0   \n",
      "\n",
      "                                             details  \n",
      "0  Sweatshirt featuring a high neck with front zi...  \n",
      "1  Jacket made of a very lightweight and reflecti...  \n",
      "2  Hoodie made of compact cotton fabric. Adjustab...  \n",
      "3  Loose-fitting sweatshirt with a wide ribbed ne...  \n",
      "4  Loose-fitting sweatshirt with a round neck and...  \n"
     ]
    }
   ],
   "source": [
    "if 'Unnamed: 0' in df.columns:\n",
    "    df.drop(columns=['Unnamed: 0'], inplace=True)\n",
    "df['price'] = df['price'].str.replace('₹', '').str.replace(',', '').astype(float)\n",
    "print(\"\\nCleaned data sample:\")\n",
    "print(df.head())"
   ]
  },
  {
   "cell_type": "code",
   "execution_count": 5,
   "id": "2d6d7df2-09ce-4263-a370-c2255e489dbb",
   "metadata": {},
   "outputs": [
    {
     "name": "stdout",
     "output_type": "stream",
     "text": [
      "\n",
      "Summary Statistics for Price:\n",
      "count      32.000000\n",
      "mean     3374.375000\n",
      "std       844.377753\n",
      "min      2590.000000\n",
      "25%      2990.000000\n",
      "50%      3290.000000\n",
      "75%      3290.000000\n",
      "max      7590.000000\n",
      "Name: price, dtype: float64\n"
     ]
    }
   ],
   "source": [
    "price_summary = df['price'].describe()\n",
    "print(\"\\nSummary Statistics for Price:\")\n",
    "print(price_summary)"
   ]
  },
  {
   "cell_type": "code",
   "execution_count": 6,
   "id": "c23f193c-5120-4e30-aac0-41e4f65a2e1b",
   "metadata": {},
   "outputs": [
    {
     "data": {
      "image/png": "[encoded data removed]",
      "text/plain": [
       "<Figure size 800x500 with 1 Axes>"
      ]
     },
     "metadata": {},
     "output_type": "display_data"
    }
   ],
   "source": [
    "import matplotlib.pyplot as plt\n",
    "plt.figure(figsize=(8, 5))\n",
    "plt.hist(df['price'], bins=10, color='skyblue', edgecolor='black')\n",
    "plt.title('Price Distribution of Hoodies and Sweatshirts')\n",
    "plt.xlabel('Price (INR)')\n",
    "plt.ylabel('Frequency')\n",
    "plt.grid(True, linestyle='--', alpha=0.7)\n",
    "plt.show()"
   ]
  },
  {
   "cell_type": "code",
   "execution_count": 7,
   "id": "91c41770-fe1b-4276-93d2-dc1c1d8c5bf0",
   "metadata": {},
   "outputs": [
    {
     "name": "stdout",
     "output_type": "stream",
     "text": [
      "\n",
      "Most Expensive Product:\n",
      "               product_name   price\n",
      "1  REFLECTIVE EFFECT JACKET  7590.0\n",
      "\n",
      "Least Expensive Product:\n",
      "                   product_name   price\n",
      "3            PREMIUM SWEATSHIRT  2590.0\n",
      "29  VINTAGE FADED DENIM T-SHIRT  2590.0\n"
     ]
    }
   ],
   "source": [
    "most_expensive = df[df['price'] == df['price'].max()]\n",
    "least_expensive = df[df['price'] == df['price'].min()]\n",
    "\n",
    "print(\"\\nMost Expensive Product:\")\n",
    "print(most_expensive[['product_name', 'price']])\n",
    "\n",
    "print(\"\\nLeast Expensive Product:\")\n",
    "print(least_expensive[['product_name', 'price']])"
   ]
  },
  {
   "cell_type": "code",
   "execution_count": 8,
   "id": "48a8079a-6e44-4fd0-a78a-8f57d583dfdc",
   "metadata": {},
   "outputs": [
    {
     "name": "stdout",
     "output_type": "stream",
     "text": [
      "\n",
      "Average Price by Category:\n",
      "category\n",
      "Hoodie        3523.333333\n",
      "Sweatshirt    3340.000000\n",
      "Name: price, dtype: float64\n"
     ]
    }
   ],
   "source": [
    "# Categorize products based on keywords in the product name\n",
    "df['category'] = df['product_name'].str.contains('HOODIE', case=False).replace({True: 'Hoodie', False: 'Sweatshirt'})\n",
    "\n",
    "# Calculate average prices by category\n",
    "average_price_by_category = df.groupby('category')['price'].mean()\n",
    "\n",
    "print(\"\\nAverage Price by Category:\")\n",
    "print(average_price_by_category)"
   ]
  },
  {
   "cell_type": "code",
   "execution_count": null,
   "id": "504593dc-0581-4174-bb79-a476a74c9229",
   "metadata": {},
   "outputs": [],
   "source": []
  }
 ],
 "metadata": {
  "kernelspec": {
   "display_name": "Python 3 (ipykernel)",
   "language": "python",
   "name": "python3"
  },
  "language_info": {
   "codemirror_mode": {
    "name": "ipython",
    "version": 3
   },
   "file_extension": ".py",
   "mimetype": "text/x-python",
   "name": "python",
   "nbconvert_exporter": "python",
   "pygments_lexer": "ipython3",
   "version": "3.12.7"
  }
 },
 "nbformat": 4,
 "nbformat_minor": 5
}
